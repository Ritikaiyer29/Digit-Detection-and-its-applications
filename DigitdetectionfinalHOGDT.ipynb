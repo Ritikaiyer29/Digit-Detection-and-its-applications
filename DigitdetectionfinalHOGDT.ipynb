{
 "cells": [
  {
   "cell_type": "code",
   "execution_count": 3,
   "metadata": {},
   "outputs": [
    {
     "name": "stderr",
     "output_type": "stream",
     "text": [
      "c:\\ProgramData\\Anaconda3\\lib\\site-packages\\scipy\\__init__.py:146: UserWarning: A NumPy version >=1.16.5 and <1.23.0 is required for this version of SciPy (detected version 1.26.4\n",
      "  warnings.warn(f\"A NumPy version >={np_minversion} and <{np_maxversion}\"\n"
     ]
    }
   ],
   "source": [
    "import cv2\n",
    "import numpy as np\n",
    "from sklearn.tree import DecisionTreeClassifier\n",
    "from sklearn.model_selection import train_test_split\n",
    "from sklearn.metrics import accuracy_score\n",
    "import os"
   ]
  },
  {
   "cell_type": "code",
   "execution_count": 4,
   "metadata": {},
   "outputs": [
    {
     "name": "stdout",
     "output_type": "stream",
     "text": [
      "Total Classes Detected: 10\n",
      "Importing Classes .......\n",
      "0 1 2 3 4 5 6 7 8 9  \n",
      "Total Images in Images List =  10160\n",
      "Total IDs in classNo List=  10160\n"
     ]
    }
   ],
   "source": [
    "import cv2\n",
    "import numpy as np\n",
    "from sklearn.tree import DecisionTreeClassifier\n",
    "from sklearn.model_selection import train_test_split\n",
    "from sklearn.metrics import accuracy_score\n",
    "import os\n",
    "\n",
    "path = \"myData\"\n",
    "imageDimensions = (32, 32, 3)\n",
    "images = []     \n",
    "classNo = []    \n",
    "\n",
    "myList = os.listdir(path)\n",
    "print(\"Total Classes Detected:\", len(myList))\n",
    "noOfClasses = len(myList)\n",
    "print(\"Importing Classes .......\")\n",
    "for x in range(0, noOfClasses):\n",
    "    myPicList = os.listdir(path + \"/\" + str(x))\n",
    "    for y in myPicList:\n",
    "        curImg = cv2.imread(path + \"/\" + str(x) + \"/\" + y)\n",
    "        curImg = cv2.resize(curImg, (32, 32))\n",
    "        images.append(curImg)\n",
    "        classNo.append(x)\n",
    "    print(x, end=\" \")\n",
    "\n",
    "print(\" \")\n",
    "print(\"Total Images in Images List = \", len(images))\n",
    "print(\"Total IDs in classNo List= \", len(classNo))\n",
    "\n",
    "# Step 1: Load dataset\n",
    "labels = classNo"
   ]
  },
  {
   "cell_type": "code",
   "execution_count": 8,
   "metadata": {},
   "outputs": [],
   "source": [
    "def extract_hog_features(images):\n",
    "    hog = cv2.HOGDescriptor()\n",
    "    hog_features = []\n",
    "    for img in images:\n",
    "        # Convert the image to grayscale\n",
    "        gray_img = cv2.cvtColor(img, cv2.COLOR_BGR2GRAY)\n",
    "        # Resize the image to a standard size if necessary\n",
    "        resized_img = cv2.resize(gray_img, (64, 128))  # Default HOG window size\n",
    "        # Compute HOG features\n",
    "        hog_feature = hog.compute(resized_img)\n",
    "        hog_features.append(hog_feature)\n",
    "    return np.array(hog_features)\n",
    "\n",
    "\n",
    "# Extract HOG features\n",
    "hog_features = extract_hog_features(images)"
   ]
  },
  {
   "cell_type": "code",
   "execution_count": 9,
   "metadata": {},
   "outputs": [],
   "source": [
    "# Split dataset into training and testing sets\n",
    "X_train, X_test, y_train, y_test = train_test_split(hog_features, labels, test_size=0.2, random_state=42)"
   ]
  },
  {
   "cell_type": "code",
   "execution_count": 11,
   "metadata": {},
   "outputs": [],
   "source": [
    "import matplotlib.pyplot as plt"
   ]
  },
  {
   "cell_type": "code",
   "execution_count": 13,
   "metadata": {},
   "outputs": [],
   "source": [
    "#Train Decision Tree model\n",
    "def train_model(X_train, y_train):\n",
    "    dt = DecisionTreeClassifier()\n",
    "    dt.fit(X_train, y_train)\n",
    "    return dt\n"
   ]
  },
  {
   "cell_type": "code",
   "execution_count": 14,
   "metadata": {},
   "outputs": [],
   "source": [
    "# Train Decision Tree model\n",
    "dt_model = train_model(X_train, y_train)"
   ]
  },
  {
   "cell_type": "code",
   "execution_count": 15,
   "metadata": {},
   "outputs": [
    {
     "name": "stdout",
     "output_type": "stream",
     "text": [
      "Accuracy: 0.9409448818897638\n"
     ]
    }
   ],
   "source": [
    "# Evaluate model\n",
    "y_pred = dt_model.predict(X_test)\n",
    "accuracy = accuracy_score(y_test, y_pred)\n",
    "print(\"Accuracy:\", accuracy)"
   ]
  },
  {
   "cell_type": "code",
   "execution_count": 23,
   "metadata": {},
   "outputs": [
    {
     "name": "stdout",
     "output_type": "stream",
     "text": [
      "Predicted Digit: 9\n"
     ]
    },
    {
     "data": {
      "image/png": "[encoded data removed]",
      "text/plain": [
       "<Figure size 432x288 with 1 Axes>"
      ]
     },
     "metadata": {
      "needs_background": "light"
     },
     "output_type": "display_data"
    }
   ],
   "source": [
    "import cv2\n",
    "import numpy as np\n",
    "\n",
    "# Load the trained model\n",
    "# Assuming you have trained your model and stored it in dt_model\n",
    "\n",
    "# Function to predict digit from an image\n",
    "def predict_digit(image_path, model):\n",
    "    # Load the test image\n",
    "    test_img = cv2.imread(image_path)\n",
    "    \n",
    "    # Preprocess the image (resize, convert to grayscale, etc.)\n",
    "    gray_img = cv2.cvtColor(test_img, cv2.COLOR_BGR2GRAY)\n",
    "    resized_img = cv2.resize(gray_img, (64, 128))  # Resize to match HOG feature size\n",
    "    \n",
    "    # Extract HOG features\n",
    "    hog = cv2.HOGDescriptor()\n",
    "    hog_feature = hog.compute(resized_img)\n",
    "    \n",
    "    # Reshape HOG feature array to match the format expected by the model\n",
    "    hog_feature = hog_feature.reshape(1, -1)\n",
    "    \n",
    "    # Predict digit using the trained model\n",
    "    digit_prediction = model.predict(hog_feature)\n",
    "    plt.imshow(test_img)\n",
    "    return digit_prediction[0]\n",
    "\n",
    "# Example usage\n",
    "image_path = \"C:\\\\Users\\\\RITIKA\\\\Desktop\\\\2nd year\\\\sem 4\\\\Sodoku project\\\\abcd.webp\"  # Replace with the path to your test image\n",
    "predicted_digit = predict_digit(image_path, dt_model)\n",
    "print(\"Predicted Digit:\", predicted_digit)"
   ]
  },
  {
   "cell_type": "code",
   "execution_count": 29,
   "metadata": {},
   "outputs": [
    {
     "name": "stdout",
     "output_type": "stream",
     "text": [
      "Classification Report:\n",
      "              precision    recall  f1-score   support\n",
      "\n",
      "           0       0.96      0.96      0.96       221\n",
      "           1       0.93      0.91      0.92       206\n",
      "           2       0.91      0.93      0.92       200\n",
      "           3       0.96      0.94      0.95       217\n",
      "           4       0.98      0.95      0.96       201\n",
      "           5       0.93      0.97      0.95       190\n",
      "           6       0.94      0.94      0.94       203\n",
      "           7       0.90      0.92      0.91       198\n",
      "           8       0.95      0.95      0.95       200\n",
      "           9       0.96      0.93      0.95       196\n",
      "\n",
      "    accuracy                           0.94      2032\n",
      "   macro avg       0.94      0.94      0.94      2032\n",
      "weighted avg       0.94      0.94      0.94      2032\n",
      "\n"
     ]
    }
   ],
   "source": [
    "from sklearn.metrics import classification_report\n",
    "# Compute classification report\n",
    "report = classification_report(y_test, y_pred)\n",
    "print(\"Classification Report:\")\n",
    "print(report)\n"
   ]
  },
  {
   "cell_type": "code",
   "execution_count": 18,
   "metadata": {},
   "outputs": [
    {
     "name": "stdout",
     "output_type": "stream",
     "text": [
      "Predicted Digit: 3\n"
     ]
    },
    {
     "data": {
      "image/png": "[encoded data removed]",
      "text/plain": [
       "<Figure size 432x288 with 1 Axes>"
      ]
     },
     "metadata": {
      "needs_background": "light"
     },
     "output_type": "display_data"
    }
   ],
   "source": [
    "import cv2\n",
    "import numpy as np\n",
    "\n",
    "# Load the trained model\n",
    "# Assuming you have trained your model and stored it in dt_model\n",
    "\n",
    "# Function to predict digit from an image\n",
    "def predict_digit(image_path, model):\n",
    "    # Load the test image\n",
    "    test_img = cv2.imread(image_path)\n",
    "    \n",
    "    # Preprocess the image (resize, convert to grayscale, etc.)\n",
    "    gray_img = cv2.cvtColor(test_img, cv2.COLOR_BGR2GRAY)\n",
    "    resized_img = cv2.resize(gray_img, (64, 128))  # Resize to match HOG feature size\n",
    "    \n",
    "    # Extract HOG features\n",
    "    hog = cv2.HOGDescriptor()\n",
    "    hog_feature = hog.compute(resized_img)\n",
    "    \n",
    "    # Reshape HOG feature array to match the format expected by the model\n",
    "    hog_feature = hog_feature.reshape(1, -1)\n",
    "    \n",
    "    # Predict digit using the trained model\n",
    "    digit_prediction = model.predict(hog_feature)\n",
    "    plt.imshow(test_img)\n",
    "    return digit_prediction[0]\n",
    "\n",
    "# Example usage\n",
    "image_path = \"C:\\\\Users\\\\RITIKA\\\\Desktop\\\\2nd year\\\\sem 4\\\\Sodoku project\\\\three.jpeg\"  # Replace with the path to your test image\n",
    "predicted_digit = predict_digit(image_path, dt_model)\n",
    "print(\"Predicted Digit:\", predicted_digit)"
   ]
  },
  {
   "cell_type": "code",
   "execution_count": 24,
   "metadata": {},
   "outputs": [],
   "source": [
    "import pickle\n",
    "# Save the trained model\n",
    "with open('decision_tree_hog_model.pkl', 'wb') as file:\n",
    "    pickle.dump(dt_model, file)"
   ]
  }
 ],
 "metadata": {
  "kernelspec": {
   "display_name": "base",
   "language": "python",
   "name": "python3"
  },
  "language_info": {
   "codemirror_mode": {
    "name": "ipython",
    "version": 3
   },
   "file_extension": ".py",
   "mimetype": "text/x-python",
   "name": "python",
   "nbconvert_exporter": "python",
   "pygments_lexer": "ipython3",
   "version": "3.9.12"
  }
 },
 "nbformat": 4,
 "nbformat_minor": 2
}
