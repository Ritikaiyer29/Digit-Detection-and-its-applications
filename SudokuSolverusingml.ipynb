{
 "cells": [
  {
   "cell_type": "code",
   "execution_count": 105,
   "metadata": {},
   "outputs": [],
   "source": [
    "def preProcess(img):\n",
    "    imgGray = cv2.cvtColor(img, cv2.COLOR_BGR2GRAY)  # CONVERT IMAGE TO GRAY SCALE\n",
    "    imgBlur = cv2.GaussianBlur(imgGray, (5, 5), 1)  # ADD GAUSSIAN BLUR\n",
    "    imgThreshold = cv2.adaptiveThreshold(imgBlur, 255, 1, 1, 11, 2)  # APPLY ADAPTIVE THRESHOLD\n",
    "    return imgThreshold"
   ]
  },
  {
   "cell_type": "code",
   "execution_count": 106,
   "metadata": {},
   "outputs": [],
   "source": [
    "def reorder(myPoints):\n",
    "    myPoints = myPoints.reshape((4, 2))\n",
    "    myPointsNew = np.zeros((4, 1, 2), dtype=np.int32)\n",
    "    add = myPoints.sum(1)\n",
    "    myPointsNew[0] = myPoints[np.argmin(add)]\n",
    "    myPointsNew[3] =myPoints[np.argmax(add)]\n",
    "    diff = np.diff(myPoints, axis=1)\n",
    "    myPointsNew[1] =myPoints[np.argmin(diff)]\n",
    "    myPointsNew[2] = myPoints[np.argmax(diff)]\n",
    "    return myPointsNew"
   ]
  },
  {
   "cell_type": "code",
   "execution_count": 107,
   "metadata": {},
   "outputs": [],
   "source": [
    "def biggestContour(contours):\n",
    "    biggest = np.array([])\n",
    "    max_area = 0\n",
    "    for i in contours:\n",
    "        area = cv2.contourArea(i)\n",
    "        if area > 50:\n",
    "            peri = cv2.arcLength(i, True)\n",
    "            approx = cv2.approxPolyDP(i, 0.02 * peri, True)\n",
    "            if area > max_area and len(approx) == 4:\n",
    "                biggest = approx\n",
    "                max_area = area\n",
    "    return biggest,max_area"
   ]
  },
  {
   "cell_type": "code",
   "execution_count": 108,
   "metadata": {},
   "outputs": [],
   "source": [
    "def splitBoxes(img):\n",
    "    rows = np.vsplit(img,9)\n",
    "    boxes=[]\n",
    "    for r in rows:\n",
    "        cols= np.hsplit(r,9)\n",
    "        for box in cols:\n",
    "            boxes.append(box)\n",
    "    return boxes"
   ]
  },
  {
   "cell_type": "code",
   "execution_count": 109,
   "metadata": {},
   "outputs": [],
   "source": [
    "def displayNumbers(img,numbers,color = (0,255,0)):\n",
    "    secW = int(img.shape[1]/9)\n",
    "    secH = int(img.shape[0]/9)\n",
    "    for x in range (0,9):\n",
    "        for y in range (0,9):\n",
    "            if numbers[(y*9)+x] != 0 :\n",
    "                cv2.putText(img, str(numbers[(y*9)+x]),(x*secW+int(secW/2)-10, int((y+0.8)*secH)), cv2.FONT_HERSHEY_COMPLEX_SMALL,2, color, 2, cv2.LINE_AA)\n",
    "    return img"
   ]
  },
  {
   "cell_type": "code",
   "execution_count": 110,
   "metadata": {},
   "outputs": [],
   "source": [
    "def drawGrid(img):\n",
    "    secW = int(img.shape[1]/9)\n",
    "    secH = int(img.shape[0]/9)\n",
    "    for i in range (0,9):\n",
    "        pt1 = (0,secH*i)\n",
    "        pt2 = (img.shape[1],secH*i)\n",
    "        pt3 = (secW * i, 0)\n",
    "        pt4 = (secW*i,img.shape[0])\n",
    "        cv2.line(img, pt1, pt2, (255, 255, 0),2)\n",
    "        cv2.line(img, pt3, pt4, (255, 255, 0),2)\n",
    "    return img"
   ]
  },
  {
   "cell_type": "code",
   "execution_count": 111,
   "metadata": {},
   "outputs": [],
   "source": [
    "def solve(matrix):\n",
    "    M = 9\n",
    "    solved=[]\n",
    "    def puzzle(a):\n",
    "        for i in range(M):\n",
    "            row=[]\n",
    "            for j in range(M):\n",
    "                row.append(a[i][j])\n",
    "            solved.append(row)    \n",
    "    def solve(grid, row, col, num):\n",
    "        for x in range(9):\n",
    "            if grid[row][x] == num:\n",
    "                return False\n",
    "        for x in range(9):\n",
    "            if grid[x][col] == num:\n",
    "                return False\n",
    "        startRow = row - row % 3\n",
    "        startCol = col - col % 3\n",
    "        for i in range(3):\n",
    "            for j in range(3):\n",
    "                if grid[i + startRow][j + startCol] == num:\n",
    "                    return False\n",
    "        return True\n",
    "    def Suduko(grid, row, col):\n",
    "        if (row == M - 1 and col == M):\n",
    "            return True\n",
    "        if col == M:\n",
    "            row += 1\n",
    "            col = 0\n",
    "        if grid[row][col] > 0:\n",
    "            return Suduko(grid, row, col + 1)\n",
    "        for num in range(1, M + 1, 1): \n",
    "            if solve(grid, row, col, num):\n",
    "                grid[row][col] = num\n",
    "                if Suduko(grid, row, col + 1):\n",
    "                    return True\n",
    "                grid[row][col] = 0\n",
    "        return False\n",
    "    '''0 means the cells where no value is assigned'''\n",
    "    if (Suduko(matrix, 0, 0)):\n",
    "        puzzle(matrix)\n",
    "    return solved"
   ]
  },
  {
   "cell_type": "code",
   "execution_count": 130,
   "metadata": {},
   "outputs": [],
   "source": [
    "def sudoku(path):\n",
    "    # Load the HOG decision tree model\n",
    "    with open('decision_tree_model.pkl', 'rb') as file:\n",
    "        hog_model = pickle.load(file)\n",
    "    # Load and preprocess the Sudoku image\n",
    "    heightImg = 450\n",
    "    widthImg = 450\n",
    "    img = cv2.imread(path)\n",
    "    img = cv2.resize(img, (widthImg, heightImg))  # RESIZE IMAGE TO MAKE IT A SQUARE IMAGE\n",
    "    imgBlank = np.zeros((heightImg, widthImg, 3), np.uint8)  # CREATE A BLANK IMAGE FOR TESTING DEBUGING IF REQUIRED\n",
    "    imgThreshold = preProcess(img)\n",
    "    imgContours = img.copy() # COPY IMAGE FOR DISPLAY PURPOSES\n",
    "    imgBigContour = img.copy() # COPY IMAGE FOR DISPLAY PURPOSES\n",
    "    contours, hierarchy = cv2.findContours(imgThreshold, cv2.RETR_EXTERNAL, cv2.CHAIN_APPROX_SIMPLE) # FIND ALL CONTOURS\n",
    "    cv2.drawContours(imgContours, contours, -1, (0, 255, 0), 3) # DRAW ALL DETECTED CONTOURS\n",
    "    biggest, maxArea = biggestContour(contours) # FIND THE BIGGEST CONTOUR\n",
    "    #print(biggest)\n",
    "    if biggest.size != 0:\n",
    "        biggest = reorder(biggest)\n",
    "        #print(biggest)\n",
    "        cv2.drawContours(imgBigContour, biggest, -1, (0, 0, 255), 25) # DRAW THE BIGGEST CONTOUR\n",
    "        pts1 = np.float32(biggest) # PREPARE POINTS FOR WARP\n",
    "        pts2 = np.float32([[0, 0],[widthImg, 0], [0, heightImg],[widthImg, heightImg]]) # PREPARE POINTS FOR WARP\n",
    "        matrix = cv2.getPerspectiveTransform(pts1, pts2) # GER\n",
    "        imgWarpColored = cv2.warpPerspective(img, matrix, (widthImg, heightImg))\n",
    "        imgDetectedDigits = imgBlank.copy()\n",
    "        imgWarpColored = cv2.cvtColor(imgWarpColored,cv2.COLOR_BGR2GRAY)\n",
    "\n",
    "        imgSolvedDigits = imgBlank.copy()\n",
    "        boxes = splitBoxes(imgWarpColored)\n",
    "        #print(len(boxes))\n",
    "        \n",
    "    numbers = predict_digit(boxes, hog_model)  # Use your HOG model for digit detection\n",
    "    plt.subplot(1,3,1)\n",
    "    plt.imshow(imgWarpColored,cmap=\"gray\")\n",
    "    plt.subplot(1,3,2)\n",
    "    plt.imshow(boxes[17],cmap=\"gray\")\n",
    "    imgDetectedDigits = displayNumbers(imgDetectedDigits, numbers, color=(255, 0, 255)) \n",
    "    plt.subplot(1,3,3)\n",
    "    plt.imshow(imgDetectedDigits,cmap=\"gray\")"
   ]
  },
  {
   "cell_type": "code",
   "execution_count": 127,
   "metadata": {},
   "outputs": [],
   "source": [
    "def predict_digit(boxes, model, threshold=0.8):\n",
    "    digits = []\n",
    "    for box in boxes:\n",
    "        # Preprocess the box (resize, convert to grayscale, etc.)\n",
    "        resized_img = cv2.resize(box, (64, 128))  # Resize to match HOG feature size\n",
    "        \n",
    "        # Extract HOG features\n",
    "        hog = cv2.HOGDescriptor()\n",
    "        hog_feature = hog.compute(resized_img)\n",
    "        \n",
    "        # Reshape HOG feature array to match the format expected by the model\n",
    "        hog_feature = hog_feature.reshape(1, -1)[:,:784]  # Resize to match expected dimensions\n",
    "        \n",
    "        # Predict digit using the trained model\n",
    "        digit_probabilities = model.predict_proba(hog_feature)[0]\n",
    "        \n",
    "        # Check if the maximum probability is above the threshold\n",
    "        if np.max(digit_probabilities) < threshold:\n",
    "            predicted_digit = 0  # Assign 0 if maximum probability is below threshold\n",
    "        else:\n",
    "            predicted_digit = np.argmax(digit_probabilities) # Index starts from 0, so add 1\n",
    "        \n",
    "        digits.append(predicted_digit)\n",
    "    \n",
    "    return digits\n"
   ]
  },
  {
   "cell_type": "code",
   "execution_count": 131,
   "metadata": {},
   "outputs": [
    {
     "data": {
      "image/png": "[encoded data removed]",
      "text/plain": [
       "<Figure size 432x288 with 3 Axes>"
      ]
     },
     "metadata": {
      "needs_background": "light"
     },
     "output_type": "display_data"
    }
   ],
   "source": [
    "sudoku(\"C:\\\\Users\\\\RITIKA\\\\Desktop\\\\2nd year\\\\sem 4\\\\Sodoku project\\\\ML_sudoku_try.webp\")"
   ]
  },
  {
   "cell_type": "markdown",
   "metadata": {},
   "source": [
    "Need to improve on grid extraction and detection part."
   ]
  }
 ],
 "metadata": {
  "kernelspec": {
   "display_name": "base",
   "language": "python",
   "name": "python3"
  },
  "language_info": {
   "codemirror_mode": {
    "name": "ipython",
    "version": 3
   },
   "file_extension": ".py",
   "mimetype": "text/x-python",
   "name": "python",
   "nbconvert_exporter": "python",
   "pygments_lexer": "ipython3",
   "version": "3.9.12"
  }
 },
 "nbformat": 4,
 "nbformat_minor": 2
}
